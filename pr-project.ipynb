{
 "cells": [
  {
   "cell_type": "code",
   "execution_count": 1,
   "metadata": {
    "collapsed": true
   },
   "outputs": [],
   "source": [
    "from sklearn.datasets import fetch_mldata\n",
    "import numpy as np\n",
    "import matplotlib.pyplot as plt\n",
    "import time as tm\n",
    "from sklearn.model_selection import train_test_split\n",
    "from sklearn.metrics import accuracy_score\n",
    "from sklearn.model_selection import cross_val_score\n",
    "from sklearn.model_selection import GridSearchCV\n",
    "\n",
    "\n",
    "# Fetch dataset\n",
    "mnist = fetch_mldata('MNIST original')\n",
    "\n",
    "# Split dataset into training set and test set\n",
    "n_train = 60000\n",
    "n_test = 10000\n",
    "\n",
    "train_idx = np.arange(0,n_train)\n",
    "test_idx = np.arange(n_train+1,n_train+n_test)\n",
    "\n",
    "X_train, y_train = mnist.data[train_idx], mnist.target[train_idx]\n",
    "X_test, y_test = mnist.data[test_idx], mnist.target[test_idx]"
   ]
  },
  {
   "cell_type": "markdown",
   "metadata": {},
   "source": [
    "## Image deskewing\n",
    "\n",
    "Deskewing is the process of straightening an image that has been scanned or written crookedly"
   ]
  },
  {
   "cell_type": "code",
   "execution_count": 2,
   "metadata": {
    "collapsed": true
   },
   "outputs": [],
   "source": [
    "from scipy.ndimage import interpolation\n",
    "\n",
    "def moments(image):\n",
    "    c0,c1 = np.mgrid[:image.shape[0],:image.shape[1]] # A trick in numPy to create a mesh grid\n",
    "    totalImage = np.sum(image) #sum of pixels\n",
    "    m0 = np.sum(c0*image)/totalImage #mu_x\n",
    "    m1 = np.sum(c1*image)/totalImage #mu_y\n",
    "    m00 = np.sum((c0-m0)**2*image)/totalImage #var(x)\n",
    "    m11 = np.sum((c1-m1)**2*image)/totalImage #var(y)\n",
    "    m01 = np.sum((c0-m0)*(c1-m1)*image)/totalImage #covariance(x,y)\n",
    "    mu_vector = np.array([m0,m1]) # Notice that these are \\mu_x, \\mu_y respectively\n",
    "    covariance_matrix = np.array([[m00,m01],[m01,m11]]) # Do you see a similarity between the covariance matrix\n",
    "    return mu_vector, covariance_matrix"
   ]
  },
  {
   "cell_type": "code",
   "execution_count": 3,
   "metadata": {
    "collapsed": true
   },
   "outputs": [],
   "source": [
    "def deskew(image):\n",
    "    c,v = moments(image)\n",
    "    alpha = v[0,1]/v[0,0]\n",
    "    affine = np.array([[1,0],[alpha,1]])\n",
    "    ocenter = np.array(image.shape)/2.0\n",
    "    offset = c-np.dot(affine,ocenter)\n",
    "    img = interpolation.affine_transform(image,affine,offset=offset)\n",
    "    return (img - img.min()) / (img.max() - img.min())"
   ]
  },
  {
   "cell_type": "code",
   "execution_count": 4,
   "metadata": {
    "collapsed": true
   },
   "outputs": [],
   "source": [
    "def deskewAll(X):\n",
    "    currents = []\n",
    "    for i in range(len(X)):\n",
    "        currents.append(deskew(X[i].reshape(28,28)).flatten())\n",
    "    return np.array(currents)"
   ]
  },
  {
   "cell_type": "code",
   "execution_count": 5,
   "metadata": {
    "scrolled": false
   },
   "outputs": [
    {
     "data": {
      "image/png": "[encoded data removed]",
      "text/plain": [
       "<matplotlib.figure.Figure at 0x7ff3c1eb5860>"
      ]
     },
     "metadata": {},
     "output_type": "display_data"
    }
   ],
   "source": [
    "example_idx = 10000\n",
    "\n",
    "plt.subplot(1, 2, 1)\n",
    "plt.imshow(X_train[example_idx].reshape(28,28))\n",
    "\n",
    "newim = deskew(X_train[example_idx].reshape(28,28))\n",
    "plt.subplot(1, 2, 2)\n",
    "plt.imshow(newim)\n",
    "plt.show()"
   ]
  },
  {
   "cell_type": "code",
   "execution_count": 6,
   "metadata": {
    "collapsed": true
   },
   "outputs": [],
   "source": [
    "X_train_deskewed = deskewAll(X_train)\n",
    "X_test_deskewed = deskewAll(X_test)"
   ]
  },
  {
   "cell_type": "markdown",
   "metadata": {},
   "source": [
    "## K-Nearest-Neighbours"
   ]
  },
  {
   "cell_type": "code",
   "execution_count": 8,
   "metadata": {},
   "outputs": [],
   "source": [
    "from sklearn.neighbors import KNeighborsClassifier"
   ]
  },
  {
   "cell_type": "markdown",
   "metadata": {},
   "source": [
    "### Experiments"
   ]
  },
  {
   "cell_type": "code",
   "execution_count": 36,
   "metadata": {},
   "outputs": [
    {
     "name": "stdout",
     "output_type": "stream",
     "text": [
      "9 Nearest Neighbours. Score: 0.981919 Time elapsed: 21 minutes\n"
     ]
    }
   ],
   "source": [
    "X_train_exp, X_test_exp, y_train_exp, y_test_exp = train_test_split(X_train_deskewed, y_train, test_size=0.33)\n",
    "\n",
    "start = tm.time()\n",
    "k = 9\n",
    "\n",
    "knn = KNeighborsClassifier(n_neighbors=k)\n",
    "knn.fit(X_train_exp, y_train_exp)\n",
    "\n",
    "score = accuracy_score(y_test_exp, knn.predict(X_test_exp))\n",
    "minutes = (tm.time() - start) / 60\n",
    "print(\"%d Nearest Neighbours. Score: %f Time elapsed: %d minutes\" % (k, score, minutes))"
   ]
  },
  {
   "cell_type": "markdown",
   "metadata": {},
   "source": [
    "### Parameter Tuning"
   ]
  },
  {
   "cell_type": "code",
   "execution_count": 9,
   "metadata": {},
   "outputs": [
    {
     "name": "stdout",
     "output_type": "stream",
     "text": [
      "K-Fold Cross Validation for 3 neighbours took 41 minutes\n",
      "K-Fold Cross Validation for 5 neighbours took 33 minutes\n",
      "K-Fold Cross Validation for 7 neighbours took 34 minutes\n",
      "K-Fold Cross Validation for 9 neighbours took 34 minutes\n",
      "K-Fold Cross Validation for 11 neighbours took 34 minutes\n",
      "K-Fold Cross Validation for 13 neighbours took 34 minutes\n",
      "K-Fold Cross Validation for 15 neighbours took 34 minutes\n",
      "K-Fold Cross Validation for 17 neighbours took 33 minutes\n",
      "K-Fold Cross Validation for 19 neighbours took 34 minutes\n",
      "K-Fold Cross Validation for 21 neighbours took 34 minutes\n",
      "K-Fold Cross Validation for 23 neighbours took 34 minutes\n",
      "K-Fold Cross Validation for 25 neighbours took 34 minutes\n",
      "K-Fold Cross Validation for 27 neighbours took 35 minutes\n",
      "K-Fold Cross Validation for 29 neighbours took 34 minutes\n",
      "Optimal k for k-nn is: 3\n",
      "Cross validation took 29323 seconds\n"
     ]
    },
    {
     "data": {
      "image/png": "[encoded data removed]",
      "text/plain": [
       "<matplotlib.figure.Figure at 0x7fc5e9758f98>"
      ]
     },
     "metadata": {},
     "output_type": "display_data"
    }
   ],
   "source": [
    "neighbours = [x for x in range(3,30,2)]\n",
    "cv_scores = []\n",
    "\n",
    "start = tm.time()\n",
    "for k in neighbours:\n",
    "    start_iter = tm.time()\n",
    "    knn = KNeighborsClassifier(n_neighbors=k)\n",
    "    scores = cross_val_score(knn, X_train_deskewed, y_train, scoring='accuracy', n_jobs=3)\n",
    "    cv_scores.append(scores.mean())\n",
    "    iteration = (tm.time() - start_iter) / 60\n",
    "    print(\"K-Fold Cross Validation for %d neighbours took %d minutes\" % (k, iteration))\n",
    "\n",
    "mse = [1 - x for x in cv_scores]\n",
    "optimal_k = neighbours[mse.index(min(mse))] # optimal k according to cv is 3\n",
    "print('Optimal k for k-nn is: %d\\nCross validation took %d seconds' % (optimal_k, tm.time() - start))\n",
    "    \n",
    "plt.plot(neighbours, mse)\n",
    "plt.xlabel('Number of Neighbors K')\n",
    "plt.ylabel('Misclassification Error')\n",
    "plt.show()"
   ]
  },
  {
   "cell_type": "markdown",
   "metadata": {
    "collapsed": true
   },
   "source": [
    "## Linear Discriminant Analysis"
   ]
  },
  {
   "cell_type": "code",
   "execution_count": 10,
   "metadata": {
    "collapsed": true
   },
   "outputs": [],
   "source": [
    "from sklearn.discriminant_analysis import LinearDiscriminantAnalysis"
   ]
  },
  {
   "cell_type": "markdown",
   "metadata": {},
   "source": [
    "### Experiments"
   ]
  },
  {
   "cell_type": "code",
   "execution_count": 13,
   "metadata": {},
   "outputs": [
    {
     "name": "stderr",
     "output_type": "stream",
     "text": [
      "/usr/lib/python3.6/site-packages/sklearn/discriminant_analysis.py:388: UserWarning: Variables are collinear.\n",
      "  warnings.warn(\"Variables are collinear.\")\n"
     ]
    },
    {
     "name": "stdout",
     "output_type": "stream",
     "text": [
      "Linear Discriminant Analysis. Score: 0.910808 Time elapsed: 2 minutes\n"
     ]
    }
   ],
   "source": [
    "X_train_exp, X_test_exp, y_train_exp, y_test_exp = train_test_split(X_train_deskewed, y_train, test_size=0.33)\n",
    "\n",
    "start = tm.time()\n",
    "\n",
    "lda = LinearDiscriminantAnalysis()\n",
    "lda.fit(X_train_exp, y_train_exp)\n",
    "\n",
    "score = accuracy_score(y_test_exp, lda.predict(X_test_exp))\n",
    "minutes = (tm.time() - start) / 60\n",
    "print(\"Linear Discriminant Analysis. Score: %f Time elapsed: %d minutes\" % (score, minutes))"
   ]
  },
  {
   "cell_type": "markdown",
   "metadata": {},
   "source": [
    "## Support Vector Machine"
   ]
  },
  {
   "cell_type": "code",
   "execution_count": 8,
   "metadata": {
    "collapsed": true
   },
   "outputs": [],
   "source": [
    "from sklearn.svm import SVC"
   ]
  },
  {
   "cell_type": "markdown",
   "metadata": {},
   "source": [
    "### Experiments"
   ]
  },
  {
   "cell_type": "code",
   "execution_count": 20,
   "metadata": {},
   "outputs": [
    {
     "name": "stdout",
     "output_type": "stream",
     "text": [
      "Support Vector Machine. Score: 0.972475 Time elapsed: 5 minutes\n"
     ]
    }
   ],
   "source": [
    "X_train_exp, X_test_exp, y_train_exp, y_test_exp = train_test_split(X_train_deskewed, y_train, test_size=0.33)\n",
    "\n",
    "start = tm.time()\n",
    "\n",
    "C = 10\n",
    "kernel = 'rbf'\n",
    "gamma = 0.01\n",
    "\n",
    "svc = SVC(C=C, kernel=kernel)\n",
    "svc.fit(X_train_exp, y_train_exp)\n",
    "\n",
    "score = accuracy_score(y_test_exp, svc.predict(X_test_exp))\n",
    "minutes = (tm.time() - start) / 60\n",
    "print(\"Support Vector Machine. Score: %f Time elapsed: %d minutes\" % (score, minutes))"
   ]
  },
  {
   "cell_type": "markdown",
   "metadata": {},
   "source": [
    "### Parameter Tuning"
   ]
  },
  {
   "cell_type": "code",
   "execution_count": null,
   "metadata": {},
   "outputs": [],
   "source": [
    "C_range = np.logspace(-3, 2, 6)\n",
    "gamma_range = np.logspace(-3, 2, 6)\n",
    "\n",
    "parameters = [{'kernel': ['rbf'],\n",
    "               'gamma': gamma_range,\n",
    "                'C': C_range},\n",
    "              {'kernel': ['linear'], 'C': C_range}]\n",
    "\n",
    "svc = SVC()\n",
    "start = tm.time()\n",
    "clf = GridSearchCV(svc, parameters, scoring=\"accuracy\", n_jobs=3)\n",
    "clf.fit(X_train_deskewed, y_train)\n",
    "elapsed = (tm.time() - start) / 60\n",
    "\n",
    "print(\"Best score: %0.5f\" % (clf.best_score_))\n",
    "print(\"Best parameters: %s\" % (str(clf.best_params_)))\n",
    "print(\"Time elapsed: %d minutes\" % (elapsed))\n",
    "\n",
    "means = clf.cv_results_['mean_test_score']\n",
    "for mean, params in zip(means, clf.cv_results_['params']):\n",
    "    print(\"%0.5f accuracy for parameters: %r\"\n",
    "          % (mean, params))\n"
   ]
  },
  {
   "cell_type": "markdown",
   "metadata": {},
   "source": [
    "## Sources\n",
    "\n",
    "* lecture slides\n",
    "* http://scikit-learn.org\n",
    "* https://www.csie.ntu.edu.tw/~cjlin/papers/guide/guide.pdf\n",
    "* http://pyml.sourceforge.net/doc/howto.pdf\n",
    "* https://fsix.github.io/mnist/Deskewing.html"
   ]
  }
 ],
 "metadata": {
  "kernelspec": {
   "display_name": "Python 3",
   "language": "python",
   "name": "python3"
  },
  "language_info": {
   "codemirror_mode": {
    "name": "ipython",
    "version": 3
   },
   "file_extension": ".py",
   "mimetype": "text/x-python",
   "name": "python",
   "nbconvert_exporter": "python",
   "pygments_lexer": "ipython3",
   "version": "3.6.3"
  }
 },
 "nbformat": 4,
 "nbformat_minor": 2
}
